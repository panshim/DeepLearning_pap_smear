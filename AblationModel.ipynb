{
  "nbformat": 4,
  "nbformat_minor": 0,
  "metadata": {
    "colab": {
      "name": "AblationModel.ipynb",
      "provenance": [],
      "collapsed_sections": []
    },
    "kernelspec": {
      "name": "python3",
      "display_name": "Python 3"
    },
    "accelerator": "GPU"
  },
  "cells": [
    {
      "cell_type": "code",
      "metadata": {
        "id": "AzUmuw3jTi5m",
        "colab_type": "code",
        "colab": {
          "base_uri": "https://localhost:8080/",
          "height": 139
        },
        "outputId": "cac75d43-247e-4e67-ceca-4d4a6aeda9bf"
      },
      "source": [
        "from google.colab import drive\n",
        "drive.mount('/content/gdrive')\n",
        "%cd /content/gdrive/My\\ Drive/"
      ],
      "execution_count": 3,
      "outputs": [
        {
          "output_type": "stream",
          "text": [
            "Go to this URL in a browser: https://accounts.google.com/o/oauth2/auth?client_id=947318989803-6bn6qk8qdgf4n4g3pfee6491hc0brc4i.apps.googleusercontent.com&redirect_uri=urn%3aietf%3awg%3aoauth%3a2.0%3aoob&response_type=code&scope=email%20https%3a%2f%2fwww.googleapis.com%2fauth%2fdocs.test%20https%3a%2f%2fwww.googleapis.com%2fauth%2fdrive%20https%3a%2f%2fwww.googleapis.com%2fauth%2fdrive.photos.readonly%20https%3a%2f%2fwww.googleapis.com%2fauth%2fpeopleapi.readonly\n",
            "\n",
            "Enter your authorization code:\n",
            "··········\n",
            "Mounted at /content/gdrive\n",
            "/content/gdrive/My Drive\n"
          ],
          "name": "stdout"
        }
      ]
    },
    {
      "cell_type": "code",
      "metadata": {
        "id": "o-A6ptPFTmhP",
        "colab_type": "code",
        "colab": {}
      },
      "source": [
        "from fastai import *\n",
        "from fastai.vision import *\n",
        "import pandas as pd\n",
        "import matplotlib.image as mpimg\n",
        "from fastai.utils.ipython import *\n",
        "from fastai.metrics import *\n",
        "from fastai.callbacks.tracker import SaveModelCallback\n",
        "\n",
        "%matplotlib inline\n",
        "import matplotlib.pyplot as plt\n",
        "import numpy as np\n",
        "import skimage.data\n",
        "import skimage.color\n",
        "from skimage.transform import rescale, resize\n",
        "import scipy.misc\n",
        "import scipy.signal\n",
        "import time\n",
        "\n",
        "import torch\n",
        "torch.manual_seed(0)\n",
        "from torch.autograd import Variable\n",
        "import torch.nn.functional as F\n",
        "from torchvision import models\n",
        "import torchvision.transforms as transforms\n",
        "\n",
        "from matplotlib import rcParams\n",
        "rcParams['axes.grid'] = False\n",
        "\n",
        "import warnings\n",
        "warnings.filterwarnings(\"ignore\")"
      ],
      "execution_count": 0,
      "outputs": []
    },
    {
      "cell_type": "code",
      "metadata": {
        "id": "Ppk4in_gTo7a",
        "colab_type": "code",
        "colab": {}
      },
      "source": [
        "import pickle\n",
        "\n",
        "img_size = 32\n",
        "# load from pickle file\n",
        "if img_size == 32:\n",
        "  train_x = pickle.load( open( \"/content/gdrive/My Drive/pap_smear/train_x32.p\", \"rb\" ) )\n",
        "  valid_x = pickle.load( open( \"/content/gdrive/My Drive/pap_smear/valid_x32.p\", \"rb\" ) )\n",
        "  test_x = pickle.load( open( \"/content/gdrive/My Drive/pap_smear/test_x32.p\", \"rb\" ) )\n",
        "if img_size == 48:\n",
        "  train_x = pickle.load( open( \"/content/gdrive/My Drive/pap_smear/train_x48.p\", \"rb\" ) )\n",
        "  valid_x = pickle.load( open( \"/content/gdrive/My Drive/pap_smear/valid_x48.p\", \"rb\" ) )\n",
        "  test_x = pickle.load( open( \"/content/gdrive/My Drive/pap_smear/test_x48.p\", \"rb\" ) )\n",
        "\n",
        "train_y = pickle.load( open( \"/content/gdrive/My Drive/pap_smear/train_y.p\", \"rb\" ) )\n",
        "valid_y = pickle.load( open( \"/content/gdrive/My Drive/pap_smear/valid_y.p\", \"rb\" ) )\n",
        "test_y = pickle.load( open( \"/content/gdrive/My Drive/pap_smear/test_y.p\", \"rb\" ) )"
      ],
      "execution_count": 0,
      "outputs": []
    },
    {
      "cell_type": "code",
      "metadata": {
        "id": "mKfgJ62aTrln",
        "colab_type": "code",
        "colab": {
          "base_uri": "https://localhost:8080/",
          "height": 51
        },
        "outputId": "7f6af2ea-933e-4d9c-d1c3-da3e7f9c2625"
      },
      "source": [
        "print(train_x.shape)\n",
        "print(valid_x.shape)"
      ],
      "execution_count": 6,
      "outputs": [
        {
          "output_type": "stream",
          "text": [
            "torch.Size([2592, 3, 32, 32])\n",
            "torch.Size([648, 3, 32, 32])\n"
          ],
          "name": "stdout"
        }
      ]
    },
    {
      "cell_type": "code",
      "metadata": {
        "id": "yC-bNC8uTtns",
        "colab_type": "code",
        "colab": {}
      },
      "source": [
        "assert torch.cuda.is_available()"
      ],
      "execution_count": 0,
      "outputs": []
    },
    {
      "cell_type": "code",
      "metadata": {
        "id": "8UlxWg8aTxy3",
        "colab_type": "code",
        "colab": {}
      },
      "source": [
        "RGB_train_x = train_x.cuda()\n",
        "RGB_valid_x = valid_x.cuda()\n",
        "test_x = test_x.cuda()"
      ],
      "execution_count": 0,
      "outputs": []
    },
    {
      "cell_type": "code",
      "metadata": {
        "id": "byA-LqCUTyYb",
        "colab_type": "code",
        "colab": {}
      },
      "source": [
        "import torchvision\n",
        "\n",
        "NUM_CLASSES = 2\n",
        "GRAY_CHANNEL = 1\n",
        "RGB_CHANNELS = 3\n",
        "HEIGHT = 32\n",
        "WIDTH = 32"
      ],
      "execution_count": 0,
      "outputs": []
    },
    {
      "cell_type": "code",
      "metadata": {
        "id": "koiiOQsCT0pw",
        "colab_type": "code",
        "colab": {}
      },
      "source": [
        "def batch(batch_size, images, labels, training=True):\n",
        "  \"\"\"Create a batch of examples.\n",
        "  \n",
        "  This creates a batch of input images and a batch of corresponding\n",
        "  ground-truth labels. We assume CUDA is available (with a GPU).\n",
        "  \n",
        "  Args:\n",
        "    batch_size: An integer.\n",
        "    images: images to train on\n",
        "    labels: class labels of each image\n",
        "    training: A boolean. If True, grab examples from the training\n",
        "      set; otherwise, grab them from the validation set.\n",
        "  \n",
        "  Returns:\n",
        "    A tuple,\n",
        "    input_batch: A Variable of floats with shape\n",
        "      [batch_size, 1, height, width]\n",
        "    label_batch: A Variable of ints with shape\n",
        "      [batch_size].\n",
        "  \"\"\"\n",
        "  if training:\n",
        "    #TODO: 3. set fixed indices to see if model will overfit as expected\n",
        "    random_ind = np.random.choice(images.shape[0], size=batch_size, replace=False)\n",
        "    input_batch = images[random_ind]\n",
        "    label_batch = labels[random_ind]\n",
        "  else:\n",
        "    input_batch = images[:batch_size]\n",
        "    label_batch = labels[:batch_size]\n",
        "  \n",
        "  input_batch = torch.tensor(input_batch, requires_grad=False, device='cuda')\n",
        "  label_batch = torch.tensor(label_batch, requires_grad=False, device='cuda')\n",
        "  \n",
        "  return input_batch, label_batch"
      ],
      "execution_count": 0,
      "outputs": []
    },
    {
      "cell_type": "code",
      "metadata": {
        "id": "ck03y2ImT3l6",
        "colab_type": "code",
        "colab": {}
      },
      "source": [
        "def train_step(model, train_images, train_labels, optimizer, batch_size=32):\n",
        "  \"\"\"Conducts one training iteration\n",
        "  \n",
        "  Trains on one batch of input images, computes loss, and back propagates.\n",
        "  \n",
        "  Args:\n",
        "    model: network\n",
        "    train_images: images used for training\n",
        "    train_labels: class labels for each training image\n",
        "    optimizer: type of optimization\n",
        "    batch_size: an integer\n",
        "  \n",
        "  Returns:\n",
        "    loss, error\n",
        "  \"\"\"\n",
        "  model.train()\n",
        "\n",
        "  input_batch, label_batch = batch(batch_size, train_images, train_labels, training=True)\n",
        "  input_batch = input_batch.float()\n",
        "  output_batch = model(input_batch)\n",
        "  loss = F.cross_entropy(output_batch, label_batch)\n",
        "  _, pred_batch = torch.max(output_batch, dim=1)\n",
        "  error_rate = 1.0 - (pred_batch == label_batch).float().mean()\n",
        "\n",
        "  optimizer.zero_grad()\n",
        "  loss.backward()\n",
        "  \n",
        "  optimizer.step()\n",
        "  \n",
        "  return loss.item(), error_rate.item()"
      ],
      "execution_count": 0,
      "outputs": []
    },
    {
      "cell_type": "code",
      "metadata": {
        "id": "sUJF9U5BT6wL",
        "colab_type": "code",
        "colab": {}
      },
      "source": [
        "def val(model, val_images, val_labels):\n",
        "  \"\"\"Conducts validation step\n",
        "\n",
        "  Passes validation images through model, computes loss, and error rate.\n",
        "  \n",
        "  Args:\n",
        "    model: network\n",
        "    val_images: images used for validation\n",
        "    val_labels: class labels for validation images\n",
        "  \n",
        "  Returns:\n",
        "    loss, error\n",
        "  \"\"\"\n",
        "  \n",
        "  model.eval()\n",
        "  input_batch, label_batch = batch(val_images.shape[0], val_images, val_labels, training=False)\n",
        "  input_batch = input_batch.float()\n",
        "  #TODO: 4. visualize input_batch -- what goes directly into model\n",
        "  output_batch = model(input_batch)\n",
        "\n",
        "  loss = F.cross_entropy(output_batch, label_batch)\n",
        "  _, pred_batch = torch.max(output_batch, dim=1)\n",
        "  error_rate = 1.0 - (pred_batch == label_batch).float().mean()\n",
        "  \n",
        "  return loss.item(), error_rate.item()"
      ],
      "execution_count": 0,
      "outputs": []
    },
    {
      "cell_type": "code",
      "metadata": {
        "id": "nRAheVD0T9S3",
        "colab_type": "code",
        "colab": {}
      },
      "source": [
        "def train(model, optimizer, train_images, train_labels, val_images, val_labels, num_steps, num_steps_per_val):\n",
        "  \"\"\"Executes entire training procedure.\n",
        "  \n",
        "  Iterates through each step, number of steps determined by user.\n",
        "  Plots training, validation loss and training, validation error.\n",
        "  \n",
        "  Args:\n",
        "    model: network\n",
        "    optimizer: type of optimization\n",
        "    train_images: images used for training\n",
        "    train_labels: class labels for training images\n",
        "    val_images: images used for validation\n",
        "    val_labels: class labels for validation images\n",
        "    num_steps: number of iterations\n",
        "    num_steps_per_val: determines how often validation is done\n",
        "  \n",
        "  Returns:\n",
        "    None\n",
        "  \"\"\"\n",
        "  #TODO: 1. initialization\n",
        "  for module in model.children():\n",
        "    if isinstance(module, torch.nn.Conv2d) or isinstance(module, torch.nn.Linear):\n",
        "      module.reset_parameters()\n",
        "    if isinstance(module, torch.nn.Conv2d) or isinstance(module, torch.nn.Linear):\n",
        "      torch.nn.init.xavier_uniform_(module.weight.data)\n",
        "\n",
        "  info = []\n",
        "  fig, ax = plt.subplots(2, 1, sharex=True)\n",
        "  best_val_err = 1.0\n",
        "  for step in range(num_steps):\n",
        "    # TODO: 7. smaller batch size\n",
        "    train_loss, train_err = train_step(model, train_images, train_labels, optimizer)\n",
        "    if step % num_steps_per_val == 0:\n",
        "      val_loss, val_err = val(model, val_images, val_labels)\n",
        "      if val_err < best_val_err:\n",
        "        best_val_err = val_err\n",
        "        print('Step {:5d}: Obtained a best validation error of {:.3f}.'.format(step, best_val_err))\n",
        "        torch.save(model, '/content/gdrive/My Drive/ablation_model3' + str(img_size))\n",
        "      info.append([step, train_loss, val_loss, train_err, val_err])\n",
        "      print('Step {:5d}: Train Error - {:.3f}, Val Error - {:.3f}, Train Loss - {:.3f}, Val Loss - {:.3f}.'.format(step, train_err, val_err, train_loss, val_loss))\n",
        "      x, y11, y12, y21, y22 = zip(*info)\n",
        "      ax[0].plot(x, y11, c='r')\n",
        "      ax[0].plot(x, y12, c='g')\n",
        "      ax[0].legend(['Train loss', 'Val loss'])\n",
        "      ax[1].plot(x, y21, c='r')\n",
        "      ax[1].plot(x, y22, c='g')\n",
        "      ax[1].legend(['Train err', 'Val err'])\n",
        "      ax[1].set_ylim([0.0, 1.0])"
      ],
      "execution_count": 0,
      "outputs": []
    },
    {
      "cell_type": "code",
      "metadata": {
        "id": "JUHIOB0pUEya",
        "colab_type": "code",
        "colab": {}
      },
      "source": [
        "# model definition\n",
        "\n",
        "# inspiration: https://heartbeat.fritz.ai/basics-of-image-classification-with-pytorch-2f8973c51864\n",
        "class Unit2(torch.nn.Module):\n",
        "    def __init__(self,in_channels,out_channels):\n",
        "        super(Unit2,self).__init__()\n",
        "        \n",
        "        self.conv = torch.nn.Conv2d(in_channels=in_channels,kernel_size=7,out_channels=out_channels,stride=1,padding=7//2)\n",
        "        self.bn = torch.nn.BatchNorm2d(num_features=out_channels)\n",
        "        self.relu = torch.nn.ReLU()\n",
        "\n",
        "    def forward(self,input):\n",
        "        output = self.conv(input)\n",
        "        output = self.bn(output)\n",
        "        output = self.relu(output)\n",
        "\n",
        "        return output\n",
        "\n",
        "class model2(torch.nn.Module):\n",
        "  \"\"\"CNN with RGB images\n",
        "  \n",
        "  Map from inputs with shape [batch_size, 3, 32, 32] to\n",
        "  outputs with shape [batch_size, ].\n",
        "\n",
        "  - dropout\n",
        "  - batchnorm\n",
        "  \"\"\"\n",
        "  #TODO: 6. smaller model\n",
        "  #TODO: 8. add dropout\n",
        "  #TODO: 9. larger model\n",
        "  def __init__(self):\n",
        "    super().__init__()\n",
        "    self.unit1 = Unit2(in_channels=3,out_channels=32)\n",
        "\n",
        "    self.dropOut = torch.nn.Dropout(0.3)\n",
        "\n",
        "    self.pool1 = torch.nn.MaxPool2d(kernel_size=2)\n",
        "\n",
        "    self.unit2 = Unit2(in_channels=32, out_channels=64)\n",
        "    self.unit3 = Unit2(in_channels=64, out_channels=64)\n",
        "\n",
        "    self.pool2 = torch.nn.MaxPool2d(kernel_size=2)\n",
        "\n",
        "    self.unit4 = Unit2(in_channels=64, out_channels=128)\n",
        "    self.unit5 = Unit2(in_channels=128, out_channels=128)\n",
        "\n",
        "    self.pool3 = torch.nn.MaxPool2d(kernel_size=2)\n",
        "\n",
        "    self.unit6 = Unit2(in_channels=128, out_channels=128)\n",
        "\n",
        "    self.avgpool = torch.nn.AvgPool2d(kernel_size=4)\n",
        " \n",
        "    self.net = torch.nn.Sequential(self.unit1,\n",
        "                                   self.pool1, self.dropOut, self.unit2, self.unit3,\n",
        "                                   self.pool2, self.dropOut, self.unit4, self.unit5,\n",
        "                                   self.pool3, self.dropOut, self.unit6,\n",
        "                                   self.avgpool)  \n",
        "\n",
        "\n",
        "    self.fc = torch.nn.Linear(in_features=128,out_features=NUM_CLASSES)\n",
        "\n",
        "  def forward(self, input):\n",
        "    output = self.net(input)\n",
        "    output = output.view(-1,128)\n",
        "    output = self.fc(output)\n",
        "    return output"
      ],
      "execution_count": 0,
      "outputs": []
    },
    {
      "cell_type": "code",
      "metadata": {
        "id": "iKzwUrHYUvjt",
        "colab_type": "code",
        "colab": {
          "base_uri": "https://localhost:8080/",
          "height": 503
        },
        "outputId": "1a9ce794-2fdf-4447-d6ff-bfb0e3e95a28"
      },
      "source": [
        "m2 = model2()\n",
        "m2.cuda()\n",
        "#TODO: 5. play around with learning rate\n",
        "optimizer1 = torch.optim.Adam(m2.parameters(), lr=0.003, weight_decay=0.0000001)\n",
        "train(m2, optimizer1, RGB_train_x, train_y, RGB_valid_x, valid_y, 1000, 100)"
      ],
      "execution_count": 36,
      "outputs": [
        {
          "output_type": "stream",
          "text": [
            "Step     0: Obtained a best validation error of 0.957.\n",
            "Step     0: Train Error - 0.812, Val Error - 0.957, Train Loss - 1.074, Val Loss - 3.016.\n",
            "Step   100: Obtained a best validation error of 0.296.\n",
            "Step   100: Train Error - 0.156, Val Error - 0.296, Train Loss - 0.308, Val Loss - 0.675.\n",
            "Step   200: Obtained a best validation error of 0.110.\n",
            "Step   200: Train Error - 0.094, Val Error - 0.110, Train Loss - 0.189, Val Loss - 0.398.\n",
            "Step   300: Train Error - 0.062, Val Error - 0.312, Train Loss - 0.148, Val Loss - 0.462.\n",
            "Step   400: Train Error - 0.156, Val Error - 0.594, Train Loss - 0.522, Val Loss - 1.041.\n",
            "Step   500: Obtained a best validation error of 0.057.\n",
            "Step   500: Train Error - 0.062, Val Error - 0.057, Train Loss - 0.243, Val Loss - 0.217.\n",
            "Step   600: Train Error - 0.094, Val Error - 0.330, Train Loss - 0.136, Val Loss - 0.538.\n",
            "Step   700: Train Error - 0.125, Val Error - 0.154, Train Loss - 0.225, Val Loss - 0.511.\n",
            "Step   800: Train Error - 0.000, Val Error - 0.511, Train Loss - 0.063, Val Loss - 1.151.\n",
            "Step   900: Train Error - 0.031, Val Error - 0.252, Train Loss - 0.089, Val Loss - 0.537.\n"
          ],
          "name": "stdout"
        },
        {
          "output_type": "display_data",
          "data": {
            "image/png": "[encoded data removed]",
            "text/plain": [
              "<Figure size 432x288 with 2 Axes>"
            ]
          },
          "metadata": {
            "tags": [],
            "needs_background": "light"
          }
        }
      ]
    },
    {
      "cell_type": "code",
      "metadata": {
        "id": "Foae4mVzUz6p",
        "colab_type": "code",
        "colab": {
          "base_uri": "https://localhost:8080/",
          "height": 34
        },
        "outputId": "0b9cc1b5-15a2-4d5e-df93-fa0d9d6495c1"
      },
      "source": [
        "m_loaded = torch.load(\"/content/gdrive/My Drive/ablation_model3\"+str(img_size))\n",
        "m_loaded.eval()\n",
        "\n",
        "output = []\n",
        "for i in range(len(test_x)):\n",
        "  result = m_loaded(test_x[i:i+1,:,:,:].float())\n",
        "  _, pred_batch = torch.max(result, dim=1)\n",
        "  output = output + pred_batch.cpu().data.numpy().tolist()\n",
        "\n",
        "# baseline accuracy - 92.34%\n",
        "wrong = 0\n",
        "for i in range(len(output)):\n",
        "  if output[i] != test_y[i]:\n",
        "    wrong = wrong + 1\n",
        "print(1.0 - wrong/len(output))"
      ],
      "execution_count": 37,
      "outputs": [
        {
          "output_type": "stream",
          "text": [
            "0.92336217552534\n"
          ],
          "name": "stdout"
        }
      ]
    }
  ]
}