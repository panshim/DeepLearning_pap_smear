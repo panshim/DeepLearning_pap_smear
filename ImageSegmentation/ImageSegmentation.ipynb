{
  "nbformat": 4,
  "nbformat_minor": 0,
  "metadata": {
    "kernelspec": {
      "name": "python3",
      "display_name": "Python 3"
    },
    "language_info": {
      "codemirror_mode": {
        "name": "ipython",
        "version": 3
      },
      "file_extension": ".py",
      "mimetype": "text/x-python",
      "name": "python",
      "nbconvert_exporter": "python",
      "pygments_lexer": "ipython3",
      "version": "3.6.8"
    },
    "colab": {
      "name": "ImageSegmentation.ipynb",
      "provenance": [],
      "collapsed_sections": [
        "nRks2JrtBRYh",
        "WsIeTWJWBjpJ",
        "7nnTAvAa0vro",
        "Kf2Qc8oA_IZ5",
        "cZmEp-7v9ao9",
        "cxI1szOEUJuL"
      ],
      "toc_visible": true
    },
    "accelerator": "GPU"
  },
  "cells": [
    {
      "cell_type": "markdown",
      "metadata": {
        "id": "4bO-aUK_0vrS",
        "colab_type": "text"
      },
      "source": [
        "# Image Segmentation: Unet on Nuclei, etc."
      ]
    },
    {
      "cell_type": "markdown",
      "metadata": {
        "id": "nRks2JrtBRYh",
        "colab_type": "text"
      },
      "source": [
        "## Section 1.Imports & Mount Drive"
      ]
    },
    {
      "cell_type": "code",
      "metadata": {
        "id": "No9nSEnV0vrT",
        "colab_type": "code",
        "colab": {}
      },
      "source": [
        "%gui qt5\n",
        "import sys\n",
        "sys.path.append('/content/drive/My Drive/Segmentation/CellSegmentation/')\n",
        "# import napari\n",
        "import numpy as np\n",
        "import warnings\n",
        "import matplotlib.pyplot as plt\n",
        "warnings.filterwarnings('ignore')"
      ],
      "execution_count": 0,
      "outputs": []
    },
    {
      "cell_type": "code",
      "metadata": {
        "id": "Ljsu74EzIINM",
        "colab_type": "code",
        "outputId": "440b6dad-5d6a-49b3-956f-7c5a3cdedeab",
        "colab": {
          "base_uri": "https://localhost:8080/",
          "height": 122
        }
      },
      "source": [
        "from google.colab import drive\n",
        "drive.mount('/content/drive')"
      ],
      "execution_count": 0,
      "outputs": [
        {
          "output_type": "stream",
          "text": [
            "Go to this URL in a browser: https://accounts.google.com/o/oauth2/auth?client_id=947318989803-6bn6qk8qdgf4n4g3pfee6491hc0brc4i.apps.googleusercontent.com&redirect_uri=urn%3aietf%3awg%3aoauth%3a2.0%3aoob&response_type=code&scope=email%20https%3a%2f%2fwww.googleapis.com%2fauth%2fdocs.test%20https%3a%2f%2fwww.googleapis.com%2fauth%2fdrive%20https%3a%2f%2fwww.googleapis.com%2fauth%2fdrive.photos.readonly%20https%3a%2f%2fwww.googleapis.com%2fauth%2fpeopleapi.readonly\n",
            "\n",
            "Enter your authorization code:\n",
            "··········\n",
            "Mounted at /content/drive\n"
          ],
          "name": "stdout"
        }
      ]
    },
    {
      "cell_type": "markdown",
      "metadata": {
        "id": "WsIeTWJWBjpJ",
        "colab_type": "text"
      },
      "source": [
        "## Section 2.Data Processing (Generate HDF5)"
      ]
    },
    {
      "cell_type": "markdown",
      "metadata": {
        "id": "gKkzKoHw0vrm",
        "colab_type": "text"
      },
      "source": [
        "**Purpose:** This Section is used to convert original data into HDF5 format, in order to feed into Neural Networks.\n",
        "\n",
        "**Notice 1: If you have already got the hdf5 files like 'data.hdf5, data_360.hdf5' from somewhear, then you can skip this section.** \n",
        "\n",
        "**Notice 2:** Maybe you want to unzip .zip files locally. Colab & Drive has bugs dealing with large files or large quantity of files (>1000 files in one directory)"
      ]
    },
    {
      "cell_type": "code",
      "metadata": {
        "id": "ftdp6gIiCv3T",
        "colab_type": "code",
        "colab": {}
      },
      "source": [
        "# Preperation for downloading from Kaggle\n",
        "\n",
        "!pip install -U kaggle --quiet\n",
        "!mkdir -p ~/.kaggle # copy kaggle.json to Google Drive change access mode\n",
        "!cp /content/drive/My\\ Drive/kaggle.json ~/.kaggle/\n",
        "!chmod 600 ~/.kaggle/kaggle.json"
      ],
      "execution_count": 0,
      "outputs": []
    },
    {
      "cell_type": "code",
      "metadata": {
        "id": "0fyydrzCC_mz",
        "colab_type": "code",
        "colab": {}
      },
      "source": [
        "# Download HPA Dataset\n",
        "!kaggle competitions download -c human-protein-atlas-image-classification"
      ],
      "execution_count": 0,
      "outputs": []
    },
    {
      "cell_type": "code",
      "metadata": {
        "id": "Nr7j2cokG4Tb",
        "colab_type": "code",
        "colab": {}
      },
      "source": [
        "# unzip .zip files\n",
        "\n",
        "from zipfile import ZipFile\n",
        "file_name = \"/content/drive/My Drive/Segmentation/HPADataset/train.csv.zip\"\n",
        "with ZipFile(file_name, 'r') as zip:\n",
        "  zip.extractall(path=\"/content/drive/My Drive/Segmentation/HPADataset/train_dataset/\")\n",
        "  print(\"done\")"
      ],
      "execution_count": 0,
      "outputs": []
    },
    {
      "cell_type": "code",
      "metadata": {
        "id": "BIUQ7Olyhcwl",
        "colab_type": "code",
        "colab": {}
      },
      "source": [
        "# can't unzip because of too many image files\n",
        "\n",
        "from zipfile import ZipFile\n",
        "file_name = \"/content/drive/My Drive/Segmentation/HPADataset/train_dataset/human-protein-atlas-image-classification.zip\"\n",
        "with ZipFile(file_name, 'r') as zip:\n",
        "  zip.extractall(path=\"/content/drive/My Drive/Segmentation/HPADataset/train_unzip/\")\n",
        "  print(\"done\")"
      ],
      "execution_count": 0,
      "outputs": []
    },
    {
      "cell_type": "code",
      "metadata": {
        "id": "uXiJt0MQL6NE",
        "colab_type": "code",
        "colab": {}
      },
      "source": [
        "# Create .hdf5 file for nuclei dataset\n",
        "!python /content/drive/My\\ Drive/Segmentation/CellSegmentation/process_data/nuclei_create_hdf5.py --input_dir \"/content/drive/My Drive/Segmentation/NucleiDataset/stage1_train/\"  --output_dir \"/content/drive/My Drive/Segmentation/NucleiDataset/stage1_train_HDF5/\""
      ],
      "execution_count": 0,
      "outputs": []
    },
    {
      "cell_type": "code",
      "metadata": {
        "id": "dIPcUcl3YqgS",
        "colab_type": "code",
        "colab": {}
      },
      "source": [
        "# Create .hdf5 file for hpa dataset\n",
        "!python /content/drive/My\\ Drive/Segmentation/CellSegmentation/process_data/hpa_create_hdf5.py --input_dir \"/content/drive/My Drive/Segmentation/HPADataset/train_dataset\"  --output_dir \"/content/drive/My Drive/Segmentation/HPA_HDF5/\""
      ],
      "execution_count": 0,
      "outputs": []
    },
    {
      "cell_type": "markdown",
      "metadata": {
        "id": "7nnTAvAa0vro",
        "colab_type": "text"
      },
      "source": [
        "## Section 3. Model Training ---- UNet/DialationCNN/FusionNet"
      ]
    },
    {
      "cell_type": "code",
      "metadata": {
        "id": "A-4rep9XXwOI",
        "colab_type": "code",
        "colab": {}
      },
      "source": [
        "# You must run it before training: required in training process\n",
        "!pip install tensorboardX==1.4"
      ],
      "execution_count": 0,
      "outputs": []
    },
    {
      "cell_type": "code",
      "metadata": {
        "id": "446u6slW7UAZ",
        "colab_type": "code",
        "colab": {}
      },
      "source": [
        "# UNet/Fusion/DialationCNN On **Nuclei Dataset**\n",
        "# change the argument '--model unet' as your like\n",
        "# you might want to change '--epoch num' for better training\n",
        "!python /content/drive/My\\ Drive/Segmentation/CellSegmentation/train.py --num_kernel 16\\\n",
        "                --kernel_size 3\\\n",
        "                --lr 1e-3 \\\n",
        "                --train_data /content/drive/My\\ Drive/Segmentation/NucleiDataset/stage1_train_HDF5/data_360.hdf5 \\\n",
        "                --save_dir /content/drive/My\\ Drive/Segmentation \\\n",
        "                --device cuda\\\n",
        "                --dataset nuclei\\\n",
        "                --target_channels 4 \\\n",
        "                --optimizer adam\\\n",
        "                --model dilation\\\n",
        "                --shuffle False \\\n",
        "                --num_workers 16 \\\n",
        "                --batch_size 16 \\\n",
        "                --epoch 150 \\\n",
        "                --gpu_ids 0\\\n",
        "                --experiment_name dilation_nuclei_16_epoch150"
      ],
      "execution_count": 0,
      "outputs": []
    },
    {
      "cell_type": "code",
      "metadata": {
        "id": "Q_F3p5nbXdR9",
        "colab_type": "code",
        "colab": {}
      },
      "source": [
        "# UNet/Fusion/DialationCNN On **HPA Dataset**\n",
        "# HDF5 file 'data.hdf5' is so large(30GB) that google drive has problems loading it...\n",
        "# So this script is always stuck at loading process...\n",
        "# error: unable to open file 'data.hdf5';[Colab has problem open large files]\n",
        "!python  /content/drive/My\\ Drive/Segmentation/CellSegmentation/train.py --num_kernel 8 \\\n",
        "                --kernel_size 3\\\n",
        "                --lr 1e-3 \\\n",
        "                --epoch 200\\\n",
        "                --train_data /content/drive/My\\ Drive/Segmentation/HPADataset/hpa_train/data.hdf5 \\\n",
        "                --save_dir /content/drive/My\\ Drive/Segmentation \\\n",
        "                --device cuda\\\n",
        "                --dataset hpa\\\n",
        "                --optimizer adam\\\n",
        "                --model unet\\\n",
        "                --shuffle False \\\n",
        "                --max_mean max \\\n",
        "                --target_channels '0,2,3' \\\n",
        "                --num_workers 32 \\\n",
        "                --batch_size 8 \\\n",
        "                --gpu_ids 0\\\n",
        "                --transform True\\\n",
        "                --experiment_name hpa_1c_max_16"
      ],
      "execution_count": 0,
      "outputs": []
    },
    {
      "cell_type": "code",
      "metadata": {
        "id": "9WQcj6YyAIM9",
        "colab_type": "code",
        "colab": {}
      },
      "source": [
        "# **No Use** (Not implemented)\n",
        "# UNet/Fusion/DialationCNN On **Neuro Dataset**\n",
        "!python train.py --num_kernel 8 \\\n",
        "                --kernel_size 3\\\n",
        "                --lr 1e-3 \\\n",
        "                --epoch 100 \\\n",
        "                --train_data PATH_TO_TRAIN_DATA \\\n",
        "                --save_dir ./ \\\n",
        "                --dataset neuro \\\n",
        "                --device cuda\\\n",
        "                --optimizer adam\\\n",
        "                --model unet\\\n",
        "                --shuffle False \\\n",
        "                --max_mean max \\\n",
        "                --target_channels '3'\\\n",
        "                --num_workers 32 \\\n",
        "                --batch_size 8 \\\n",
        "                --gpu_ids 0\\\n",
        "                --transform False\\\n",
        "                --experiment_name neuro\n"
      ],
      "execution_count": 0,
      "outputs": []
    },
    {
      "cell_type": "markdown",
      "metadata": {
        "id": "Kf2Qc8oA_IZ5",
        "colab_type": "text"
      },
      "source": [
        "## Section 4. Model Testing ---- UNet/DialationCNN/FusionNet"
      ]
    },
    {
      "cell_type": "code",
      "metadata": {
        "id": "Y-Oprz4LaQPy",
        "colab_type": "code",
        "outputId": "66e6b6e8-0c7c-4b98-827e-72ce09cf2a81",
        "colab": {
          "base_uri": "https://localhost:8080/",
          "height": 632
        }
      },
      "source": [
        "# ------task1: test different \"Models\" on \"Nuclei\" dataset------\n",
        "# Model: UNet/FusionNet/DilatedCNN\n",
        "# Dataset: Nuclei train_stage1\n",
        "# -------------------Change Dataset: Using different \".hdf5\" file-------------------\n",
        "# --test_dataset /content/drive/My\\ Drive/Segmentation/NucleiDataset/stage1_train_HDF5/data_360.hdf5 \\\n",
        "# --dataset nuclei\\\n",
        "# \"data_360.hdf5\" is the Nuclei dataset's name\n",
        "# -------------------Change Model: Using different saved model dict.-------------------\n",
        "# --load_model_dict /content/drive/My\\ Drive/Segmentation/UNet_nuclei_1c_16.pth \\\n",
        "# --model unet\\\n",
        "# -----------------------------------------------------------------------------------------------\n",
        "!python3 /content/drive/My\\ Drive/Segmentation/CellSegmentation/test_models_nuclei.py --num_kernel 16\\\n",
        "                --kernel_size 3\\\n",
        "                --lr 1e-3 \\\n",
        "                --epoch 1\\\n",
        "                --test_dataset /content/drive/My\\ Drive/Segmentation/NucleiDataset/stage1_train_HDF5/data_360.hdf5 \\\n",
        "                --dataset nuclei\\\n",
        "                --load_model_dict /content/drive/My\\ Drive/Segmentation/UNet_nuclei_1c_16.pth \\\n",
        "                --model unet\\\n",
        "                --save_dir /content/drive/My\\ Drive/Segmentation \\\n",
        "                --device cuda\\\n",
        "                --target_channels 4 \\\n",
        "                --optimizer adam\\\n",
        "                --shuffle False \\\n",
        "                --num_workers 16 \\\n",
        "                --batch_size 32 \\\n",
        "                --epoch 150 \\\n",
        "                --gpu_ids 0\\\n",
        "                --experiment_name unet_nuclei_16_ex2"
      ],
      "execution_count": 0,
      "outputs": [
        {
          "output_type": "stream",
          "text": [
            "---------Finish get dataset---------\n",
            "---------Finish create dataloader---------\n",
            "---------Finish create model---------\n",
            "---------Finish move to cuda---------\n",
            "---------Finish optimizer & loss---------\n",
            "---------Finish load model---------\n",
            "Start the loop!\n",
            "/content/drive/My Drive/Segmentation/CellSegmentation/test_models_nuclei.py:105: UserWarning: To copy construct from a tensor, it is recommended to use sourceTensor.clone().detach() or sourceTensor.clone().detach().requires_grad_(True), rather than torch.tensor(sourceTensor).\n",
            "  x = torch.tensor(x_test, requires_grad=False, device='cuda', dtype=torch.float32)\n",
            "/content/drive/My Drive/Segmentation/CellSegmentation/test_models_nuclei.py:106: UserWarning: To copy construct from a tensor, it is recommended to use sourceTensor.clone().detach() or sourceTensor.clone().detach().requires_grad_(True), rather than torch.tensor(sourceTensor).\n",
            "  y = torch.tensor(y_test, requires_grad=False, device='cuda')\n",
            "Batch 0 , Obtained an ious of [0.8795767551226067, 0.9371209057824504, 0.9420899385312197, 0.9083978418953789, 0.8823959094229364, 0.892723425036627, 0.9548231808924273, 0.8873239436619719, 0.9080313625768172, 0.9287510477787091, 0.9282786885245902, 0.9185185185185185, 0.9571558796718322, 0.8374591312470808, 0.8992745242350962, 0.943502824858757, 0.9643231899265478, 0.8416289592760181, 0.9120612298759567, 0.9422732162065256, 0.9327669308063067, 0.9467637993835808, 0.9283101682516459, 0.8756449948400413, 0.8730133998130258, 0.8362068965517241, 0.9205892921307941, 0.8484974958263773, 0.9349078341013825, 0.9498977505112475, 0.8598351001177856, 0.9210110584518167]\n",
            "\n",
            "Batch 1 , Obtained an ious of [0.9327618087073458, 0.9135802469135802, 0.8534308386494477, 0.9409911200229161, 0.9647463456577816, 0.9680272108843537, 0.9102822580645161, 0.91432651118515, 0.9324607329842932, 0.8588066654721376, 0.8325612177365983, 0.9163793103448276, 0.8298921980632195, 0.9429882044560943, 0.9494274809160306, 0.9110918356283205, 0.8580580865603644, 0.8739839042342379, 0.9298850574712644, 0.9442365269461078, 0.9272224781206817, 0.924008350730689, 0.8835616438356164, 0.9290187891440501, 0.9672949002217295, 0.8497732997481108, 0.9009562841530054, 0.8900772430184195, 0.9345710165825523, 0.8785958836724254, 0.8764198091776465, 0.9375368296994696]\n",
            "\n",
            "Batch 2 , Obtained an ious of [0.8432486631016043, 0.919612314709236, 0.9250139379297528, 0.9150993144665144, 0.8957767349962954, 0.9279842157185136, 0.9443186962426438, 0.9122017109410175, 0.8105612124082406, 0.8415229417507322, 0.9069961422166615, 0.8980454305335447, 0.8678331682623528, 0.8385704005756777, 0.9178654292343388, 0.8906258786481471, 0.9218320610687023, 0.8627539503386005, 0.8592973846430068, 0.9572368421052632, 0.9218676677616142, 0.8398348813209494, 0.8970131885182312, 0.94896331738437, 0.8695315524583818, 0.9372423270728355, 0.8622784810126582, 0.8807114382091383, 0.8891574297858155, 0.9415405777166438, 0.9493106244931062, 0.8680172348628015]\n",
            "\n",
            "Batch 3 , Obtained an ious of [0.8937858087263112, 0.8379052369077307, 0.8936446775915695, 0.8768074031231926, 0.853218937102648, 0.9720524017467249, 0.9046793760831889, 0.9087719298245615, 0.8593647316538883, 0.9414606422279057, 0.8842497670083876, 0.8879355629486955, 0.8642953020134229, 0.8933468765871001, 0.8713080168776371, 0.6245161290322581, 0.8627575122972776, 0.9378294573643411, 0.8440165923143148, 0.8333333333333334, 0.9068607068607069, 0.8419263456090652, 0.8516832005204098, 0.9131973706387999, 0.8911678526580159, 0.9263649425287356, 0.910124526258798, 0.9065857885615252, 0.8626354111170307, 0.8962678375411636, 0.9234542211652794, 0.9001992948030048]\n",
            "\n",
            "Batch 4 , Obtained an ious of [0.9133720930232558, 0.84967815221507, 0.9107911898609573, 0.9372060857538036, 0.8031869078380707, 0.8769329552142971, 0.942173479561316, 0.9129901960784313, 0.9220452640402347, 0.778998778998779, 0.9365343475160447, 0.8973354231974922, 0.8831741366642175, 0.8790406673618353, 0.9198675496688742, 0.9467062482329658, 0.9132690882134915, 0.8776029248132252, 0.8455083909180652, 0.885730149916713, 0.9257795344751867, 0.9348697394789579, 0.9377967711301045, 0.9094897901783203, 0.9163163928162018, 0.8977940615220212, 0.9454787234042553, 0.9053117782909931, 0.9553775743707094, 0.9565720903300521, 0.9411451398135819, 0.9719101123595506]\n",
            "\n",
            "Batch 5 , Obtained an ious of [0.9338624338624338, 0.9148480958493795, 0.9134448932487017, 0.8446671438797423, 0.9688295165394402, 0.9754789272030652, 0.9508928571428571, 0.883220910623946, 0.9398198989677136, 0.9618055555555556, 0.8088287646849412, 0.9437751004016064, 0.9272517321016166, 0.8611732140956031, 0.9230540111199365, 0.8790529010238908, 0.912373403786878, 0.9022035157217133, 0.8521739130434782, 0.813780260707635, 0.8627497621313035, 0.9375, 0.9153051017005669, 0.8968824940047961, 0.8366701791359326, 0.9208542713567839, 0.9421182266009852, 0.9235505387378142, 0.865546218487395, 0.82, 0.8574257425742574, 0.8943792464484249]\n",
            "\n",
            "Batch 6 , Obtained an ious of [0.9143944197844007, 0.8273484630853203, 0.9509246088193457, 0.9315093646713184, 0.8716408947605465, 0.902241594022416, 0.9316628701594533, 0.8933562674693615, 0.9193447629624488, 0.9084716900808855, 0.8334485141672425, 0.8936651583710408, 0.921803127874885, 0.966626213592233, 0.8168533852898198, 0.8467000349202654, 0.8727785613540198, 0.9386973180076629, 0.95, 0.9027723545490043, 0.9183467741935484, 0.8759618908024918, 0.9612447499045437, 0.9419401370357015, 0.8635003739715782, 0.9467190128996074, 0.9227972027972028, 0.9735449735449735, 0.9168343393695506, 0.9317889317889317, 0.8400900900900901, 0.9291338582677166]\n",
            "\n",
            "Batch 7 , Obtained an ious of [0.9406631762652705, 0.9586715867158672, 0.9310415808974887, 0.9156552149763423, 0.9160613397901534, 0.9340711462450593, 0.9141914191419142, 0.8646408839779005, 0.8742182070882557, 0.8920681674731749, 0.9033754599264118, 0.8782835371967115, 0.8664238008500303, 0.9160679866830208, 0.9075712881022615, 0.9108753315649868, 0.7963676389653275, 0.9037927844588344, 0.9009183180280329, 0.9208030350932659, 0.8940334128878281, 0.8812831523111897, 0.8362235067437379, 0.8472864955826672, 0.9003397508493771, 0.8419056288878775, 0.8776719188958104, 0.9217611656636047, 0.9473991817650497, 0.8837920489296636, 0.9203354297693921, 0.9208581644815256]\n",
            "\n",
            "Batch 8 , Obtained an ious of [0.920901866568102, 0.9609097370291401, 0.8568207440811725, 0.9082426127527217, 0.9407918634217217, 0.9306651634723788, 0.9778059606848446, 0.9445396145610279, 0.9151321056845476, 0.937200956937799, 0.8952835820895523, 0.888728323699422, 0.9469504447268107, 0.9373007438894793, 0.9095957352287872, 0.807648401826484, 0.9279266958424508, 0.9280618311533888, 0.9296199753052545, 0.8979434941379973, 0.9583897158322057, 0.911402027027027, 0.8230152949745084, 0.8727759407967249, 0.9668123684636555, 0.8045112781954887, 0.832291074474133, 0.9341085271317829, 0.927319922128488, 0.9375643931588709, 0.9574468085106383, 0.9530675297925555]\n",
            "\n",
            "Batch 9 , Obtained an ious of [0.8795325514897849, 0.8681818181818182, 0.958128078817734, 0.8978494623655914, 0.8835654596100279, 0.9050839763958238, 0.8737686975556366, 0.9129770992366413, 0.9437751004016064, 0.9765976597659766, 0.9579673776662484, 0.9458668617410387, 0.9260969976905312, 0.9249360613810742, 0.8558025404157044, 0.8660450906026127, 0.8302919708029197, 0.8446536650975117, 0.876091506098001, 0.8195949128591615, 0.9545454545454546, 0.9265396299364816, 0.9291244788564622, 0.9565857247976454, 0.8806755260243633, 0.9519027484143763, 0.9443236189647672, 0.8676368676368676, 0.9093567251461988, 0.9059778158266955, 0.9097779877184695, 0.9436619718309859]\n",
            "\n",
            "Batch 10 , Obtained an ious of [0.8821056479619813, 0.9290349591794013, 0.9561430793157076, 0.8784246575342466, 0.924328954882924, 0.8685111989459815, 0.971025841816758, 0.8964407421431276, 0.9346016646848989, 0.9079335712083169, 0.8806580259222333, 0.9414688017669796, 0.8559865092748735, 0.9067877629063098]\n",
            "\n",
            "Tensor size: (11,)\n",
            "done!\n"
          ],
          "name": "stdout"
        }
      ]
    },
    {
      "cell_type": "markdown",
      "metadata": {
        "id": "cZmEp-7v9ao9",
        "colab_type": "text"
      },
      "source": [
        "## Section 5. Application 1--- Generate Augmented PNG images --- Pap Smear Datasets"
      ]
    },
    {
      "cell_type": "code",
      "metadata": {
        "id": "0eSqdalaKNne",
        "colab_type": "code",
        "colab": {}
      },
      "source": [
        "# -----Task: Generating Augmented Dataset-----\n",
        "# model: Unet\n",
        "# dataset: pap smear\n",
        "# Not fully implemented yet\n",
        "!python3 /content/drive/My\\ Drive/Segmentation/CellSegmentation/apply_papsmear_UNet.py --num_kernel 16\\\n",
        "                --kernel_size 3\\\n",
        "                --lr 1e-3 \\\n",
        "                --epoch 1\\\n",
        "                --save_dir /content/drive/My\\ Drive/Segmentation \\\n",
        "                --device cuda\\\n",
        "                --optimizer adam\\\n",
        "                --model unet\\\n",
        "                --shuffle False \\\n",
        "                --num_workers 16 \\\n",
        "                --batch_size 32 \\\n",
        "                --epoch 200 \\\n",
        "                --gpu_ids 0\\\n",
        "                --experiment_name unet_nuclei_16_ex3"
      ],
      "execution_count": 0,
      "outputs": []
    },
    {
      "cell_type": "code",
      "metadata": {
        "id": "z5jhAnWK_53u",
        "colab_type": "code",
        "colab": {}
      },
      "source": [
        "import PIL.Image as Image\n",
        "import torch\n",
        "from dataset import NucleiDataset, HPADataset, NeuroDataset, HPASingleDataset,get_augmenter\n",
        "from torch.utils.data import DataLoader\n",
        "\n",
        "BATCH_SIZE = 32\n",
        "NUM_WORKERS = 16\n",
        "\n",
        "def thresholdImg(img, threshold):\n",
        "    img[img>threshold] = 2**8-1;\n",
        "    img[img<=threshold] = 0;\n",
        "    return img\n",
        "\n",
        "# step1: load the saved tensor .ph\n",
        "print('Start: step1')\n",
        "predictions = torch.load('NeucleiMaskTensor.pt')\n",
        "for pred in predictions:\n",
        "    for tensor in pred:\n",
        "        tensor_ex = tensor.cpu().numpy()\n",
        "\n",
        "# step2: load the original dataset\n",
        "print('Start: step2')\n",
        "test_dataset_path = '/content/drive/My Drive/Segmentation/NucleiDataset/stage1_train_HDF5/data_360.hdf5'\n",
        "test_dataset = NucleiDataset(test_dataset_path, 'train', transform=False, target_channels=\"4\")\n",
        "# create dataloader\n",
        "test_params = {'batch_size': BATCH_SIZE,\n",
        "                'shuffle': False,\n",
        "                'num_workers': NUM_WORKERS}\n",
        "test_dataloader = DataLoader(test_dataset, **test_params)\n",
        "print('finish: create DataLoader')\n",
        "for i, (x_test, y_test) in enumerate(test_dataloader):\n",
        "    x = torch.tensor(x_test, requires_grad=False, device='cuda', dtype=torch.float32)\n",
        "    y = torch.tensor(y_test, requires_grad=False, device='cuda')         \n",
        "    # tensor --> numpy.array\n",
        "    x = x.cpu().numpy()\n",
        "    x = (x[-1]*256-1).astype(np.int32).reshape( x.shape[2], x.shape[3] )\n",
        "    # numpy.array --> Image\n",
        "    img = Image.fromarray(x)\n",
        "    img = img.convert(\"L\")\n",
        "    img.show()\n",
        "    img.save('dataset_example'+ str(i) +'.png')\n",
        "\n",
        "# step3: apply mask and write\n",
        "print('Start: step3')\n",
        "tensor_ex = thresholdImg(tensor_ex, 0.5)\n",
        "# tensor --> numpy.array\n",
        "tensor_ex = tensor_ex.astype(np.int32).reshape( tensor_ex.shape[1], tensor_ex.shape[2] )\n",
        "# numpy.array --> Image\n",
        "img = Image.fromarray(tensor_ex)\n",
        "img = img.convert(\"L\")\n",
        "img.show()\n",
        "img.save('gradient1.png')"
      ],
      "execution_count": 0,
      "outputs": []
    },
    {
      "cell_type": "code",
      "metadata": {
        "id": "BNFUU59FIg55",
        "colab_type": "code",
        "colab": {}
      },
      "source": [
        "import PIL.Image as Image\n",
        "import torch\n",
        "import pickle\n",
        "import numpy as np\n",
        "from torch.utils.data import DataLoader\n",
        "import matplotlib.pyplot as pyplot\n",
        "# ------------------Task2------------------\n",
        "# step2: load the original dataset\n",
        "train_x = pickle.load( open( \"/content/drive/My Drive/pap_smear/train_x32.p\", \"rb\" ) )\n",
        "train_x = train_x.cpu().numpy()\n",
        "ind = -13\n",
        "\n",
        "train_x = ( (train_x[ind]-train_x[ind].min())/(train_x[ind].max()-train_x[ind].min()) * 255 ).astype(np.int32).reshape( train_x.shape[1], train_x.shape[2], train_x.shape[3] )\n",
        "r=Image.fromarray(train_x[0]).convert('L')\n",
        "g=Image.fromarray(train_x[1]).convert('L')\n",
        "b=Image.fromarray(train_x[2]).convert('L')\n",
        "###merge the three channels###\n",
        "img = Image.merge(\"RGB\", (r, g, b))\n",
        "###show image####\n",
        "pyplot.imshow(img)\n",
        "pyplot.show()"
      ],
      "execution_count": 0,
      "outputs": []
    },
    {
      "cell_type": "code",
      "metadata": {
        "id": "z2DjSKs9mgiY",
        "colab_type": "code",
        "colab": {}
      },
      "source": [
        "#-----------------------Data Augmentation generation------------------------\n",
        "import numpy as np\n",
        "import matplotlib.pyplot as plt\n",
        "import torch\n",
        "import torch.nn.functional as F\n",
        "from scipy.ndimage import rotate\n",
        "torch.manual_seed(0) # fixed random seed for reproducibility\n",
        "np.random.seed(0) # fixed random seed for reproducibility\n",
        "\n",
        "#----------------------- Image Crop -----------------------\n",
        "def Image_crop(img, center, crop_size=(10, 10)):\n",
        "    assert crop_size[0] <= img.shape[0] and crop_size[1] <= img.shape[1], \"Crop size should be less than image size\"\n",
        "    img = img.copy()\n",
        "    w, h = img.shape[:2]\n",
        "    left, right, down, up = center[0]-crop_size[0]/2, center[0]+crop_size[0]/2, center[1]-crop_size[1]/2, center[1]+crop_size[1]/2\n",
        "    img = img[down:up, left:right]\n",
        "    return img\n"
      ],
      "execution_count": 0,
      "outputs": []
    },
    {
      "cell_type": "markdown",
      "metadata": {
        "id": "4XLljucpyYis",
        "colab_type": "text"
      },
      "source": [
        "## Section 6. Application 2 --- Overlapping Cervical Cytology Segmentation Challenge (ISBI 2015)"
      ]
    },
    {
      "cell_type": "code",
      "metadata": {
        "id": "ZHubAyjW2iu6",
        "colab_type": "code",
        "outputId": "25c8fe0e-9ce9-404e-e6ce-dee4ce390555",
        "colab": {
          "base_uri": "https://localhost:8080/",
          "height": 394
        }
      },
      "source": [
        "# -----Task: ISBI Segmentation-----\n",
        "# model: unet/fusion/dialation (change the argument 'model' and 'load_model' as your like)\n",
        "# dataset: Overlapping Cervical Cytology Image Segmentation Challenge\n",
        "# --imgdata /content/drive/My\\ Drive/Segmentation/OverlappingCervicalImage/Training_R2_Jan2015/frame017_stack/fov010.png \\\n",
        "\n",
        "!python3 /content/drive/My\\ Drive/Segmentation/CellSegmentation/apply_isbi_UNet.py --num_kernel 16\\\n",
        "                --kernel_size 3\\\n",
        "                --lr 1e-3 \\\n",
        "                --epoch 1\\\n",
        "                --imgdata /content/drive/My\\ Drive/Segmentation/OverlappingCervicalImage/Training_R2_Jan2015/frame007_stack/fov010.png \\\n",
        "                --load_model /content/drive/My\\ Drive/Segmentation/FusionNet_nuclei_1c_16.pth \\\n",
        "                --save_dir /content/drive/My\\ Drive/Segmentation/OverlappingCervicalImage/ \\\n",
        "                --device cuda\\\n",
        "                --optimizer adam\\\n",
        "                --model fusion\\\n",
        "                --shuffle False \\\n",
        "                --num_workers 16 \\\n",
        "                --batch_size 32 \\\n",
        "                --epoch 200 \\\n",
        "                --gpu_ids 0\\\n",
        "                --experiment_name unet_ISBI_ex1"
      ],
      "execution_count": 0,
      "outputs": [
        {
          "output_type": "stream",
          "text": [
            "tensor([[[0.9255, 0.9451, 0.9216,  ..., 0.9529, 0.9529, 0.9529],\n",
            "         [0.9255, 0.9333, 0.9255,  ..., 0.9647, 0.9608, 0.9686],\n",
            "         [0.9059, 0.9333, 0.9451,  ..., 0.9608, 0.9569, 0.9608],\n",
            "         ...,\n",
            "         [0.7333, 0.7137, 0.7647,  ..., 0.9373, 0.9412, 0.9333],\n",
            "         [0.7412, 0.7255, 0.7333,  ..., 0.9451, 0.9294, 0.9333],\n",
            "         [0.7255, 0.7333, 0.7451,  ..., 0.9216, 0.9333, 0.9294]]])\n",
            "---------Finish loading dataset---------\n",
            "---------Finish creating model---------\n",
            "---------Finish move to cuda---------\n",
            "---------Finish loading model---------\n",
            "---------Finish optimizer & loss---------\n",
            "Start the predicting!\n",
            "/content/drive/My Drive/Segmentation/CellSegmentation/apply_isbi_UNet.py:109: UserWarning: To copy construct from a tensor, it is recommended to use sourceTensor.clone().detach() or sourceTensor.clone().detach().requires_grad_(True), rather than torch.tensor(sourceTensor).\n",
            "  x = torch.tensor(x_test, requires_grad=False, device='cuda', dtype=torch.float32)\n",
            "/usr/local/lib/python3.6/dist-packages/torch/nn/functional.py:1569: UserWarning: nn.functional.sigmoid is deprecated. Use torch.sigmoid instead.\n",
            "  warnings.warn(\"nn.functional.sigmoid is deprecated. Use torch.sigmoid instead.\")\n",
            "Finished predicting\n",
            "\n",
            "torch.Size([1, 1, 1024, 1024])\n",
            "done!\n"
          ],
          "name": "stdout"
        }
      ]
    },
    {
      "cell_type": "code",
      "metadata": {
        "id": "CHmPUUMA1Xrp",
        "colab_type": "code",
        "outputId": "9a87246f-e7ae-4664-c98f-5714eb0e2e11",
        "colab": {
          "base_uri": "https://localhost:8080/",
          "height": 759
        }
      },
      "source": [
        "# ------------Show tensor as Image------------\n",
        "from torchvision import transforms\n",
        "import matplotlib.pyplot as plt\n",
        "import torch\n",
        "import PIL\n",
        "def loadImage(ImgPATH):\n",
        "    # step1: construct transformation\n",
        "    img = PIL.Image.open(ImgPATH)\n",
        "    trans1 = transforms.ToTensor()\n",
        "    trans2 = transforms.ToPILImage()\n",
        "    \n",
        "    # step2: get imgTensor\n",
        "    imgTensor = trans1(img)\n",
        "\n",
        "    # step3: show the original image\n",
        "    imgPIL = trans2(imgTensor).convert(\"RGB\")\n",
        "    plt.imshow(imgPIL)\n",
        "    plt.show()\n",
        "\n",
        "    return imgTensor.unsqueeze(0)\n",
        "\n",
        "def tesorToImage(in_tensor):\n",
        "    trans = transforms.ToPILImage()\n",
        "    imgPIL = trans(in_tensor).convert(\"RGB\")\n",
        "    ###show image####\n",
        "    plt.imshow(imgPIL)\n",
        "    plt.show()\n",
        "    imgPIL.save(\"/content/drive/My Drive/Overlap_train_007_fusion_epoch50.png\",\"PNG\")\n",
        "\n",
        "ORIGINAL_IMG_PATH = '/content/drive/My Drive/Segmentation/OverlappingCervicalImage/Training_R2_Jan2015/frame007_stack/fov010.png'\n",
        "TENSOR_PATH = '/content/drive/My Drive/Segmentation/OverlappingCervicalImage/unet_ISBI_ex1.pt'\n",
        "\n",
        "threshold = 0.5\n",
        "original_img_tensor = loadImage(ORIGINAL_IMG_PATH)\n",
        "aug_tensor = torch.load(TENSOR_PATH)\n",
        "aug_tensor =aug_tensor.squeeze(0).cpu()\n",
        "\n",
        "# print(aug_tensor)\n",
        "# aug_tensor[aug_tensor>threshold] = 1\n",
        "# aug_tensor[aug_tensor<=threshold] = 0\n",
        "# print(aug_tensor)\n",
        "\n",
        "tesorToImage(aug_tensor.squeeze(0).cpu())"
      ],
      "execution_count": 0,
      "outputs": [
        {
          "output_type": "display_data",
          "data": {
            "image/png": "[encoded data removed]",
            "text/plain": [
              "<Figure size 432x288 with 1 Axes>"
            ]
          },
          "metadata": {
            "tags": [],
            "needs_background": "light"
          }
        },
        {
          "output_type": "stream",
          "text": [
            "tensor([[[0.9283, 0.9915, 0.9979,  ..., 0.9999, 0.9996, 0.9896],\n",
            "         [0.9951, 0.9999, 1.0000,  ..., 1.0000, 1.0000, 1.0000],\n",
            "         [0.9986, 1.0000, 1.0000,  ..., 1.0000, 1.0000, 1.0000],\n",
            "         ...,\n",
            "         [0.9976, 1.0000, 1.0000,  ..., 1.0000, 1.0000, 1.0000],\n",
            "         [0.9966, 1.0000, 1.0000,  ..., 1.0000, 1.0000, 1.0000],\n",
            "         [0.9733, 0.9992, 1.0000,  ..., 1.0000, 1.0000, 1.0000]]])\n",
            "tensor([[[0.9283, 0.9915, 0.9979,  ..., 0.9999, 0.9996, 0.9896],\n",
            "         [0.9951, 0.9999, 1.0000,  ..., 1.0000, 1.0000, 1.0000],\n",
            "         [0.9986, 1.0000, 1.0000,  ..., 1.0000, 1.0000, 1.0000],\n",
            "         ...,\n",
            "         [0.9976, 1.0000, 1.0000,  ..., 1.0000, 1.0000, 1.0000],\n",
            "         [0.9966, 1.0000, 1.0000,  ..., 1.0000, 1.0000, 1.0000],\n",
            "         [0.9733, 0.9992, 1.0000,  ..., 1.0000, 1.0000, 1.0000]]])\n"
          ],
          "name": "stdout"
        },
        {
          "output_type": "display_data",
          "data": {
            "image/png": "[encoded data removed]",
            "text/plain": [
              "<Figure size 432x288 with 1 Axes>"
            ]
          },
          "metadata": {
            "tags": [],
            "needs_background": "light"
          }
        }
      ]
    },
    {
      "cell_type": "code",
      "metadata": {
        "id": "QSLvDy9vHkF_",
        "colab_type": "code",
        "colab": {}
      },
      "source": [
        "# Pre-processing: Get white background \"raw images\"\n",
        "import cv2\n",
        "WHITE_IMG_PATH = '/content/drive/My Drive/Segmentation/OverlappingCervicalImage/Training_R2_Jan2015/frame017_stack/fov010.png'\n",
        "WRITE_PATH = '/content/drive/My Drive/'\n",
        "temp_img = cv2.imread(WHITE_IMG_PATH, 0)\n",
        "print(temp_img)\n",
        "for i in range(len(temp_img)):\n",
        "  for j in range(len(temp_img[0])):\n",
        "    if temp_img[i][j] > 220:\n",
        "      temp_img[i][j] = 255\n",
        "from google.colab.patches import cv2_imshow\n",
        "cv2.imwrite(WRITE_PATH+'frame017_stack_white.png', temp_img)"
      ],
      "execution_count": 0,
      "outputs": []
    },
    {
      "cell_type": "markdown",
      "metadata": {
        "id": "cxI1szOEUJuL",
        "colab_type": "text"
      },
      "source": [
        "## Section INF. Debug Tools"
      ]
    },
    {
      "cell_type": "code",
      "metadata": {
        "id": "rflsf-hZx9dV",
        "colab_type": "code",
        "colab": {}
      },
      "source": [
        "# Debug: test HDF5 file\n",
        "import h5py\n",
        "import numpy as np\n",
        "# Open Files\n",
        "f = h5py.File('/content/drive/My Drive/Segmentation/HPADataset/hpa_train/data.hdf5', 'r')\n",
        "data_set = f['media/shimin/LENOVO/GoogleDriveSync/hpa_train/train']\n",
        "# type(data_set)\n",
        "# print(data_set)\n",
        "for item in data_set:\n",
        "    print(item)"
      ],
      "execution_count": 0,
      "outputs": []
    },
    {
      "cell_type": "code",
      "metadata": {
        "id": "d6NEWOejP5wm",
        "colab_type": "code",
        "outputId": "ac70cc20-ac1e-48e4-f0bf-e4c6dbde8130",
        "colab": {
          "base_uri": "https://localhost:8080/",
          "height": 34
        }
      },
      "source": [
        "!/opt/bin/nvidia-smi"
      ],
      "execution_count": 0,
      "outputs": [
        {
          "output_type": "stream",
          "text": [
            "/bin/bash: /opt/bin/nvidia-smi: No such file or directory\n"
          ],
          "name": "stdout"
        }
      ]
    },
    {
      "cell_type": "code",
      "metadata": {
        "id": "U0CH0UMXGabv",
        "colab_type": "code",
        "colab": {}
      },
      "source": [
        "pretrained_dict = torch.load('/content/drive/My Drive/Segmentation/UNet_nuclei_1c_16.pth')\n",
        "# 1. filter out unnecessary keys\n",
        "\n",
        "for key in pretrained_dict['model_state'].keys():\n",
        "    print('key = {}'.format(key))"
      ],
      "execution_count": 0,
      "outputs": []
    },
    {
      "cell_type": "code",
      "metadata": {
        "id": "xHo7vIZ8LSS6",
        "colab_type": "code",
        "colab": {}
      },
      "source": [
        "# Analyse HDF5 files\n",
        "import h5py\n",
        "import numpy as np\n",
        "\n",
        "with h5py.File('/content/drive/My Drive/Segmentation/HPADataset/hpa_train/data.hdf5', 'r') as f:\n",
        "    f.keys()"
      ],
      "execution_count": 0,
      "outputs": []
    },
    {
      "cell_type": "code",
      "metadata": {
        "id": "_BGhWFKlMCCY",
        "colab_type": "code",
        "colab": {}
      },
      "source": [
        "f['media/shimin/LENOVO/GoogleDriveSync/hpa_train/train']['000a6c98-bb9b-11e8-b2b9-ac1f6b6435d0']"
      ],
      "execution_count": 0,
      "outputs": []
    }
  ]
}